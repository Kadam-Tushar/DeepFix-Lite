{
  "nbformat": 4,
  "nbformat_minor": 0,
  "metadata": {
    "colab": {
      "name": "ASEML_2.ipynb",
      "provenance": [],
      "collapsed_sections": []
    },
    "kernelspec": {
      "name": "python3",
      "display_name": "Python 3"
    },
    "language_info": {
      "name": "python"
    },
    "accelerator": "TPU"
  },
  "cells": [
    {
      "cell_type": "code",
      "metadata": {
        "colab": {
          "base_uri": "https://localhost:8080/"
        },
        "id": "CP1XRi8suIlB",
        "outputId": "c3eb96c5-0ec6-496f-81e1-18400da15a0b"
      },
      "source": [
        "from google.colab import drive\n",
        "drive.mount('/content/drive')\n"
      ],
      "execution_count": 2,
      "outputs": [
        {
          "output_type": "stream",
          "text": [
            "Drive already mounted at /content/drive; to attempt to forcibly remount, call drive.mount(\"/content/drive\", force_remount=True).\n"
          ],
          "name": "stdout"
        }
      ]
    },
    {
      "cell_type": "code",
      "metadata": {
        "id": "6fci3CSgrPLY"
      },
      "source": [
        "import os\n",
        "use_tpu = True #@param {type:\"boolean\"}\n",
        "\n",
        "if use_tpu:\n",
        "    assert 'COLAB_TPU_ADDR' in os.environ, 'Missing TPU; did you request a TPU in Notebook Settings?'\n",
        "\n",
        "if 'COLAB_TPU_ADDR' in os.environ:\n",
        "  TF_MASTER = 'grpc://{}'.format(os.environ['COLAB_TPU_ADDR'])\n",
        "else:\n",
        "  TF_MASTER=''"
      ],
      "execution_count": 3,
      "outputs": []
    },
    {
      "cell_type": "code",
      "metadata": {
        "colab": {
          "base_uri": "https://localhost:8080/"
        },
        "id": "57V3laOAvEK2",
        "outputId": "a023cf2a-d0aa-40f4-fd28-8db507678cde"
      },
      "source": [
        "!ls /content/drive/MyDrive/ASEML_dataset/\n",
        "!cp drive/MyDrive/ASEML_dataset/tokenization.py ."
      ],
      "execution_count": 4,
      "outputs": [
        {
          "output_type": "stream",
          "text": [
            "tokenization.py  tokenize_dataset.py  train.csv  valid.csv\n"
          ],
          "name": "stdout"
        }
      ]
    },
    {
      "cell_type": "code",
      "metadata": {
        "id": "XhA6ZKZHxRX-"
      },
      "source": [
        "import pandas as pd\n",
        "import numpy as np \n",
        "import ast \n",
        "import tokenization\n",
        "from vocabulary import Vocabulary"
      ],
      "execution_count": 5,
      "outputs": []
    },
    {
      "cell_type": "code",
      "metadata": {
        "id": "oNYYwAGDxVvG"
      },
      "source": [
        "train = pd.read_csv('/content/drive/MyDrive/ASEML_dataset/train.csv')\n",
        "test  = pd.read_csv('/content/drive/MyDrive/ASEML_dataset/valid.csv')\n",
        "\n",
        "\n"
      ],
      "execution_count": 108,
      "outputs": []
    },
    {
      "cell_type": "code",
      "metadata": {
        "id": "EsiIbikxw2Ai"
      },
      "source": [
        "#parameters\n",
        "sen_len  = 22\n",
        "vocab_size = 250 \n",
        "# TPU address\n",
        "tpu_address = TF_MASTER\n"
      ],
      "execution_count": 99,
      "outputs": []
    },
    {
      "cell_type": "code",
      "metadata": {
        "colab": {
          "base_uri": "https://localhost:8080/",
          "height": 265
        },
        "id": "_sDOE-gyXkmx",
        "outputId": "09f4085e-d14b-492d-f2a8-34af34ed4626"
      },
      "source": [
        "import matplotlib.pyplot as plt\n",
        "dist={}\n",
        "\n",
        "train_orig = pd.read_csv('/content/drive/MyDrive/ASEML_dataset/train.csv')\n",
        "tokenizer = tokenization.C_Tokenizer()\n",
        "for index in train_orig.index:\n",
        "  tar_line = ast.literal_eval(train_orig['targetLineTokens'][index])\n",
        "  line = ' '.join(tar_line)\n",
        "  toks,types = tokenizer.tokenize(line)\n",
        "  if len(toks) in dist :\n",
        "    dist[len(toks)] +=1\n",
        "  else:\n",
        "    dist[len(toks)] = 1\n",
        "plt.scatter(dist.keys(),dist.values())\n",
        "plt.show()"
      ],
      "execution_count": 8,
      "outputs": [
        {
          "output_type": "display_data",
          "data": {
            "image/png": "[encoded data removed]",
            "text/plain": [
              "<Figure size 432x288 with 1 Axes>"
            ]
          },
          "metadata": {
            "tags": [],
            "needs_background": "light"
          }
        }
      ]
    },
    {
      "cell_type": "code",
      "metadata": {
        "id": "MBHMNUk8zUa2"
      },
      "source": [
        "def pre_process(data):\n",
        "  tokenizer = tokenization.C_Tokenizer()\n",
        "  data['src_id_var'] = \"\"\n",
        "  data['src_var_id'] = \"\"\n",
        "  data['src_lc_s'] = \"\"\n",
        "  data['src_lc_c']= \"\"\n",
        "  data['src_lc_n']= \"\"\n",
        "  data['src_lc_comm']= \"\"\n",
        "  if 'targetLineTokens' in data.columns:\n",
        "    data['tar_id_var'] = \"\"\n",
        "    data['tar_var_id'] = \"\"\n",
        "    data['tar_lc_s'] = \"\"\n",
        "    data['tar_lc_c']= \"\"\n",
        "    data['tar_lc_n']= \"\"\n",
        "    data['tar_lc_comm']= \"\"\n",
        "\n",
        "\n",
        "  for index in data.index:\n",
        "    src_line = ast.literal_eval(data['sourceLineTokens'][index])\n",
        "    line = ' '.join(src_line)\n",
        "    toks,types = tokenizer.tokenize(line)\n",
        "    num_var = list(set([toks[i] for i in range(len(toks)) if types[i]=='name']))\n",
        "    var_num = {num_var[i]:i for i in range(len(num_var))}\n",
        "    data['src_id_var'][index] = num_var\n",
        "    data['src_var_id'][index] = var_num\n",
        "    s_list=[]\n",
        "    c_list=[]\n",
        "    n_list=[]\n",
        "    com_list=[]\n",
        "    chk = var_num.keys();\n",
        "\n",
        "    for i,s in enumerate(toks):\n",
        "      if s in chk:\n",
        "        toks[i]='v'+str(var_num[s])\n",
        "      if types[i] == 'string':\n",
        "        s_list.append(toks[i])\n",
        "        toks[i]='lc_s'\n",
        "      if types[i] == 'char':\n",
        "        c_list.append(toks[i])\n",
        "        toks[i]='lc_c'\n",
        "      if types[i] == 'number':\n",
        "        n_list.append(toks[i])\n",
        "        toks[i]='lc_n'\n",
        "      if types[i] == 'comment':\n",
        "        com_list.append(toks[i])\n",
        "        toks[i] = 'lc_comm'\n",
        "    \n",
        "    normalised= ['SOS']\n",
        "    normalised.extend([toks[x] for x in range(min(sen_len-2,len(toks)))])\n",
        "    normalised.extend(['PAD' for x in range(sen_len -1 - len(normalised))])\n",
        "    normalised.append('EOS')\n",
        "     \n",
        "    data['sourceLineTokens'][index] = normalised\n",
        "    data['src_lc_s'][index] = s_list\n",
        "    data['src_lc_c'][index]= c_list\n",
        "    data['src_lc_n'][index]= n_list\n",
        "    data['src_lc_comm'][index]= com_list\n",
        "      \n",
        "    \n",
        "    if 'targetLineTokens' in data.columns:\n",
        "      tar_line = ast.literal_eval(data['targetLineTokens'][index])\n",
        "      line = ' '.join(tar_line)\n",
        "      toks,types = tokenizer.tokenize(line)\n",
        "      \n",
        "      num_var = list(set([toks[i] for i in range(len(toks)) if types[i]=='name']))\n",
        "      var_num = {num_var[i]:i for i in range(len(num_var))}\n",
        "      data['tar_id_var'][index] = num_var\n",
        "      data['tar_var_id'][index] = var_num\n",
        "      s_list=[]\n",
        "      c_list=[]\n",
        "      n_list=[]\n",
        "      com_list=[]\n",
        "      chk = var_num.keys();\n",
        "      for i,s in enumerate(toks):\n",
        "        if s in chk:\n",
        "          toks[i]='v'+str(var_num[s])\n",
        "        if types[i] == 'string':\n",
        "          s_list.append(toks[i])\n",
        "          toks[i]='lc_s'\n",
        "        if types[i] == 'char':\n",
        "          c_list.append(toks[i])\n",
        "          toks[i]='lc_c'\n",
        "        if types[i] == 'number':\n",
        "          n_list.append(toks[i])\n",
        "          toks[i]='lc_n'\n",
        "        if types[i] == 'comment':\n",
        "          com_list.append(toks[i])\n",
        "          toks[i] = 'lc_comm'\n",
        "      \n",
        "      \n",
        "      \n",
        "      normalised= ['SOS']\n",
        "      normalised.extend([toks[x] for x in range(min(sen_len-2,len(toks)))])\n",
        "      normalised.extend(['PAD' for x in range(sen_len -1 - len(normalised))])\n",
        "      normalised.append('EOS')\n",
        "     \n",
        "      data['targetLineTokens'][index] = normalised\n",
        "      data['tar_lc_s'][index] = s_list\n",
        "      data['tar_lc_c'][index]= c_list\n",
        "      data['tar_lc_n'][index]= n_list\n",
        "      data['tar_lc_comm'][index]= com_list\n",
        "    \n",
        "     \n",
        "      \n"
      ],
      "execution_count": 109,
      "outputs": []
    },
    {
      "cell_type": "code",
      "metadata": {
        "colab": {
          "base_uri": "https://localhost:8080/"
        },
        "id": "4XQXlWv7_NyL",
        "outputId": "16886d50-a057-4fea-e99a-3bb15fbc59bf"
      },
      "source": [
        "pre_process(train)\n",
        "pre_process(test)\n"
      ],
      "execution_count": 110,
      "outputs": [
        {
          "output_type": "stream",
          "text": [
            "/usr/local/lib/python3.7/dist-packages/ipykernel_launcher.py:24: SettingWithCopyWarning: \n",
            "A value is trying to be set on a copy of a slice from a DataFrame\n",
            "\n",
            "See the caveats in the documentation: https://pandas.pydata.org/pandas-docs/stable/user_guide/indexing.html#returning-a-view-versus-a-copy\n",
            "/usr/local/lib/python3.7/dist-packages/ipykernel_launcher.py:25: SettingWithCopyWarning: \n",
            "A value is trying to be set on a copy of a slice from a DataFrame\n",
            "\n",
            "See the caveats in the documentation: https://pandas.pydata.org/pandas-docs/stable/user_guide/indexing.html#returning-a-view-versus-a-copy\n",
            "/usr/local/lib/python3.7/dist-packages/ipykernel_launcher.py:53: SettingWithCopyWarning: \n",
            "A value is trying to be set on a copy of a slice from a DataFrame\n",
            "\n",
            "See the caveats in the documentation: https://pandas.pydata.org/pandas-docs/stable/user_guide/indexing.html#returning-a-view-versus-a-copy\n",
            "/usr/local/lib/python3.7/dist-packages/ipykernel_launcher.py:54: SettingWithCopyWarning: \n",
            "A value is trying to be set on a copy of a slice from a DataFrame\n",
            "\n",
            "See the caveats in the documentation: https://pandas.pydata.org/pandas-docs/stable/user_guide/indexing.html#returning-a-view-versus-a-copy\n",
            "/usr/local/lib/python3.7/dist-packages/ipykernel_launcher.py:55: SettingWithCopyWarning: \n",
            "A value is trying to be set on a copy of a slice from a DataFrame\n",
            "\n",
            "See the caveats in the documentation: https://pandas.pydata.org/pandas-docs/stable/user_guide/indexing.html#returning-a-view-versus-a-copy\n",
            "/usr/local/lib/python3.7/dist-packages/ipykernel_launcher.py:56: SettingWithCopyWarning: \n",
            "A value is trying to be set on a copy of a slice from a DataFrame\n",
            "\n",
            "See the caveats in the documentation: https://pandas.pydata.org/pandas-docs/stable/user_guide/indexing.html#returning-a-view-versus-a-copy\n",
            "/usr/local/lib/python3.7/dist-packages/ipykernel_launcher.py:57: SettingWithCopyWarning: \n",
            "A value is trying to be set on a copy of a slice from a DataFrame\n",
            "\n",
            "See the caveats in the documentation: https://pandas.pydata.org/pandas-docs/stable/user_guide/indexing.html#returning-a-view-versus-a-copy\n",
            "/usr/local/lib/python3.7/dist-packages/ipykernel_launcher.py:67: SettingWithCopyWarning: \n",
            "A value is trying to be set on a copy of a slice from a DataFrame\n",
            "\n",
            "See the caveats in the documentation: https://pandas.pydata.org/pandas-docs/stable/user_guide/indexing.html#returning-a-view-versus-a-copy\n",
            "/usr/local/lib/python3.7/dist-packages/ipykernel_launcher.py:68: SettingWithCopyWarning: \n",
            "A value is trying to be set on a copy of a slice from a DataFrame\n",
            "\n",
            "See the caveats in the documentation: https://pandas.pydata.org/pandas-docs/stable/user_guide/indexing.html#returning-a-view-versus-a-copy\n",
            "/usr/local/lib/python3.7/dist-packages/ipykernel_launcher.py:97: SettingWithCopyWarning: \n",
            "A value is trying to be set on a copy of a slice from a DataFrame\n",
            "\n",
            "See the caveats in the documentation: https://pandas.pydata.org/pandas-docs/stable/user_guide/indexing.html#returning-a-view-versus-a-copy\n",
            "/usr/local/lib/python3.7/dist-packages/ipykernel_launcher.py:98: SettingWithCopyWarning: \n",
            "A value is trying to be set on a copy of a slice from a DataFrame\n",
            "\n",
            "See the caveats in the documentation: https://pandas.pydata.org/pandas-docs/stable/user_guide/indexing.html#returning-a-view-versus-a-copy\n",
            "/usr/local/lib/python3.7/dist-packages/ipykernel_launcher.py:99: SettingWithCopyWarning: \n",
            "A value is trying to be set on a copy of a slice from a DataFrame\n",
            "\n",
            "See the caveats in the documentation: https://pandas.pydata.org/pandas-docs/stable/user_guide/indexing.html#returning-a-view-versus-a-copy\n",
            "/usr/local/lib/python3.7/dist-packages/ipykernel_launcher.py:100: SettingWithCopyWarning: \n",
            "A value is trying to be set on a copy of a slice from a DataFrame\n",
            "\n",
            "See the caveats in the documentation: https://pandas.pydata.org/pandas-docs/stable/user_guide/indexing.html#returning-a-view-versus-a-copy\n",
            "/usr/local/lib/python3.7/dist-packages/ipykernel_launcher.py:101: SettingWithCopyWarning: \n",
            "A value is trying to be set on a copy of a slice from a DataFrame\n",
            "\n",
            "See the caveats in the documentation: https://pandas.pydata.org/pandas-docs/stable/user_guide/indexing.html#returning-a-view-versus-a-copy\n"
          ],
          "name": "stderr"
        }
      ]
    },
    {
      "cell_type": "code",
      "metadata": {
        "id": "abAEHmgwx_P3",
        "colab": {
          "base_uri": "https://localhost:8080/"
        },
        "outputId": "94fefb57-fdf6-4baf-a60b-7fd037cff5a8"
      },
      "source": [
        "encoder_vocab = Vocabulary('encoder_vocab')\n",
        "decoder_vocab = Vocabulary('decoder_vocab')\n",
        "for line in train['sourceLineTokens']:\n",
        "  encoder_vocab.add_sentence(line)\n",
        "\n",
        "for line in train['targetLineTokens']:\n",
        "  decoder_vocab.add_sentence(line)\n",
        "\n",
        "print('Encoder vocab word count : ',encoder_vocab.num_words)\n",
        "print('Encoder vocab longest sentence ',encoder_vocab.longest_sentence)\n",
        "\n",
        "encoder_input_data = np.zeros(\n",
        "    (len(train),encoder_vocab.longest_sentence, encoder_vocab.num_words), dtype=\"float32\"\n",
        ")\n",
        "decoder_input_data = np.zeros(\n",
        "    (len(train), encoder_vocab.longest_sentence, encoder_vocab.num_words), dtype=\"float32\"\n",
        ")\n",
        "decoder_target_data = np.zeros(\n",
        "    (len(train), encoder_vocab.longest_sentence, encoder_vocab.num_words), dtype=\"float32\"\n",
        ")\n",
        "for i, (input_text, target_text) in enumerate(zip(train['sourceLineTokens'],train['targetLineTokens'])):\n",
        "    for t, char in enumerate(input_text):\n",
        "        encoder_input_data[i, t, encoder_vocab.word2index[char]] = 1.0\n",
        "    \n",
        "    for t, char in enumerate(target_text):\n",
        "        # decoder_target_data is ahead of decoder_input_data by one timestep\n",
        "        if char in encoder_vocab.word2index:\n",
        "          decoder_input_data[i, t, encoder_vocab.word2index[char]] = 1.0\n",
        "        else:\n",
        "          decoder_input_data[i, t, encoder_vocab.word2index['OOV_Token']] = 1.0\n",
        "        if t > 0:\n",
        "            # decoder_target_data will be ahead by one timestep\n",
        "            # and will not include the start character.\n",
        "            if char in encoder_vocab.word2index:\n",
        "              decoder_target_data[i, t-1, encoder_vocab.word2index[char]] = 1.0\n",
        "            else:\n",
        "              decoder_target_data[i, t-1, encoder_vocab.word2index['OOV_Token']] = 1.0\n",
        "            "
      ],
      "execution_count": 111,
      "outputs": [
        {
          "output_type": "stream",
          "text": [
            "Encoder vocab word count :  422\n",
            "Encoder vocab longest sentence  22\n"
          ],
          "name": "stdout"
        }
      ]
    },
    {
      "cell_type": "code",
      "metadata": {
        "colab": {
          "base_uri": "https://localhost:8080/"
        },
        "id": "8LaflxufsUD2",
        "outputId": "1dc4aad3-d242-4d80-e8b2-1d8b925e197b"
      },
      "source": [
        "import tensorflow as tf \n",
        "resolver = tf.distribute.cluster_resolver.TPUClusterResolver(TF_MASTER)\n",
        "tf.config.experimental_connect_to_cluster(resolver)\n",
        "tf.tpu.experimental.initialize_tpu_system(resolver)\n",
        "strategy = tf.distribute.experimental.TPUStrategy(resolver)"
      ],
      "execution_count": 94,
      "outputs": [
        {
          "output_type": "stream",
          "text": [
            "WARNING:tensorflow:TPU system grpc://10.100.214.18:8470 has already been initialized. Reinitializing the TPU can cause previously created variables on TPU to be lost.\n"
          ],
          "name": "stdout"
        },
        {
          "output_type": "stream",
          "text": [
            "WARNING:tensorflow:TPU system grpc://10.100.214.18:8470 has already been initialized. Reinitializing the TPU can cause previously created variables on TPU to be lost.\n"
          ],
          "name": "stderr"
        },
        {
          "output_type": "stream",
          "text": [
            "INFO:tensorflow:Initializing the TPU system: grpc://10.100.214.18:8470\n"
          ],
          "name": "stdout"
        },
        {
          "output_type": "stream",
          "text": [
            "INFO:tensorflow:Initializing the TPU system: grpc://10.100.214.18:8470\n"
          ],
          "name": "stderr"
        },
        {
          "output_type": "stream",
          "text": [
            "INFO:tensorflow:Clearing out eager caches\n"
          ],
          "name": "stdout"
        },
        {
          "output_type": "stream",
          "text": [
            "INFO:tensorflow:Clearing out eager caches\n"
          ],
          "name": "stderr"
        },
        {
          "output_type": "stream",
          "text": [
            "INFO:tensorflow:Finished initializing TPU system.\n"
          ],
          "name": "stdout"
        },
        {
          "output_type": "stream",
          "text": [
            "INFO:tensorflow:Finished initializing TPU system.\n",
            "WARNING:absl:`tf.distribute.experimental.TPUStrategy` is deprecated, please use  the non experimental symbol `tf.distribute.TPUStrategy` instead.\n"
          ],
          "name": "stderr"
        },
        {
          "output_type": "stream",
          "text": [
            "INFO:tensorflow:Found TPU system:\n"
          ],
          "name": "stdout"
        },
        {
          "output_type": "stream",
          "text": [
            "INFO:tensorflow:Found TPU system:\n"
          ],
          "name": "stderr"
        },
        {
          "output_type": "stream",
          "text": [
            "INFO:tensorflow:*** Num TPU Cores: 8\n"
          ],
          "name": "stdout"
        },
        {
          "output_type": "stream",
          "text": [
            "INFO:tensorflow:*** Num TPU Cores: 8\n"
          ],
          "name": "stderr"
        },
        {
          "output_type": "stream",
          "text": [
            "INFO:tensorflow:*** Num TPU Workers: 1\n"
          ],
          "name": "stdout"
        },
        {
          "output_type": "stream",
          "text": [
            "INFO:tensorflow:*** Num TPU Workers: 1\n"
          ],
          "name": "stderr"
        },
        {
          "output_type": "stream",
          "text": [
            "INFO:tensorflow:*** Num TPU Cores Per Worker: 8\n"
          ],
          "name": "stdout"
        },
        {
          "output_type": "stream",
          "text": [
            "INFO:tensorflow:*** Num TPU Cores Per Worker: 8\n"
          ],
          "name": "stderr"
        },
        {
          "output_type": "stream",
          "text": [
            "INFO:tensorflow:*** Available Device: _DeviceAttributes(/job:localhost/replica:0/task:0/device:CPU:0, CPU, 0, 0)\n"
          ],
          "name": "stdout"
        },
        {
          "output_type": "stream",
          "text": [
            "INFO:tensorflow:*** Available Device: _DeviceAttributes(/job:localhost/replica:0/task:0/device:CPU:0, CPU, 0, 0)\n"
          ],
          "name": "stderr"
        },
        {
          "output_type": "stream",
          "text": [
            "INFO:tensorflow:*** Available Device: _DeviceAttributes(/job:worker/replica:0/task:0/device:CPU:0, CPU, 0, 0)\n"
          ],
          "name": "stdout"
        },
        {
          "output_type": "stream",
          "text": [
            "INFO:tensorflow:*** Available Device: _DeviceAttributes(/job:worker/replica:0/task:0/device:CPU:0, CPU, 0, 0)\n"
          ],
          "name": "stderr"
        },
        {
          "output_type": "stream",
          "text": [
            "INFO:tensorflow:*** Available Device: _DeviceAttributes(/job:worker/replica:0/task:0/device:TPU:0, TPU, 0, 0)\n"
          ],
          "name": "stdout"
        },
        {
          "output_type": "stream",
          "text": [
            "INFO:tensorflow:*** Available Device: _DeviceAttributes(/job:worker/replica:0/task:0/device:TPU:0, TPU, 0, 0)\n"
          ],
          "name": "stderr"
        },
        {
          "output_type": "stream",
          "text": [
            "INFO:tensorflow:*** Available Device: _DeviceAttributes(/job:worker/replica:0/task:0/device:TPU:1, TPU, 0, 0)\n"
          ],
          "name": "stdout"
        },
        {
          "output_type": "stream",
          "text": [
            "INFO:tensorflow:*** Available Device: _DeviceAttributes(/job:worker/replica:0/task:0/device:TPU:1, TPU, 0, 0)\n"
          ],
          "name": "stderr"
        },
        {
          "output_type": "stream",
          "text": [
            "INFO:tensorflow:*** Available Device: _DeviceAttributes(/job:worker/replica:0/task:0/device:TPU:2, TPU, 0, 0)\n"
          ],
          "name": "stdout"
        },
        {
          "output_type": "stream",
          "text": [
            "INFO:tensorflow:*** Available Device: _DeviceAttributes(/job:worker/replica:0/task:0/device:TPU:2, TPU, 0, 0)\n"
          ],
          "name": "stderr"
        },
        {
          "output_type": "stream",
          "text": [
            "INFO:tensorflow:*** Available Device: _DeviceAttributes(/job:worker/replica:0/task:0/device:TPU:3, TPU, 0, 0)\n"
          ],
          "name": "stdout"
        },
        {
          "output_type": "stream",
          "text": [
            "INFO:tensorflow:*** Available Device: _DeviceAttributes(/job:worker/replica:0/task:0/device:TPU:3, TPU, 0, 0)\n"
          ],
          "name": "stderr"
        },
        {
          "output_type": "stream",
          "text": [
            "INFO:tensorflow:*** Available Device: _DeviceAttributes(/job:worker/replica:0/task:0/device:TPU:4, TPU, 0, 0)\n"
          ],
          "name": "stdout"
        },
        {
          "output_type": "stream",
          "text": [
            "INFO:tensorflow:*** Available Device: _DeviceAttributes(/job:worker/replica:0/task:0/device:TPU:4, TPU, 0, 0)\n"
          ],
          "name": "stderr"
        },
        {
          "output_type": "stream",
          "text": [
            "INFO:tensorflow:*** Available Device: _DeviceAttributes(/job:worker/replica:0/task:0/device:TPU:5, TPU, 0, 0)\n"
          ],
          "name": "stdout"
        },
        {
          "output_type": "stream",
          "text": [
            "INFO:tensorflow:*** Available Device: _DeviceAttributes(/job:worker/replica:0/task:0/device:TPU:5, TPU, 0, 0)\n"
          ],
          "name": "stderr"
        },
        {
          "output_type": "stream",
          "text": [
            "INFO:tensorflow:*** Available Device: _DeviceAttributes(/job:worker/replica:0/task:0/device:TPU:6, TPU, 0, 0)\n"
          ],
          "name": "stdout"
        },
        {
          "output_type": "stream",
          "text": [
            "INFO:tensorflow:*** Available Device: _DeviceAttributes(/job:worker/replica:0/task:0/device:TPU:6, TPU, 0, 0)\n"
          ],
          "name": "stderr"
        },
        {
          "output_type": "stream",
          "text": [
            "INFO:tensorflow:*** Available Device: _DeviceAttributes(/job:worker/replica:0/task:0/device:TPU:7, TPU, 0, 0)\n"
          ],
          "name": "stdout"
        },
        {
          "output_type": "stream",
          "text": [
            "INFO:tensorflow:*** Available Device: _DeviceAttributes(/job:worker/replica:0/task:0/device:TPU:7, TPU, 0, 0)\n"
          ],
          "name": "stderr"
        },
        {
          "output_type": "stream",
          "text": [
            "INFO:tensorflow:*** Available Device: _DeviceAttributes(/job:worker/replica:0/task:0/device:TPU_SYSTEM:0, TPU_SYSTEM, 0, 0)\n"
          ],
          "name": "stdout"
        },
        {
          "output_type": "stream",
          "text": [
            "INFO:tensorflow:*** Available Device: _DeviceAttributes(/job:worker/replica:0/task:0/device:TPU_SYSTEM:0, TPU_SYSTEM, 0, 0)\n"
          ],
          "name": "stderr"
        },
        {
          "output_type": "stream",
          "text": [
            "INFO:tensorflow:*** Available Device: _DeviceAttributes(/job:worker/replica:0/task:0/device:XLA_CPU:0, XLA_CPU, 0, 0)\n"
          ],
          "name": "stdout"
        },
        {
          "output_type": "stream",
          "text": [
            "INFO:tensorflow:*** Available Device: _DeviceAttributes(/job:worker/replica:0/task:0/device:XLA_CPU:0, XLA_CPU, 0, 0)\n"
          ],
          "name": "stderr"
        }
      ]
    },
    {
      "cell_type": "code",
      "metadata": {
        "id": "tyxuXgn7BU80"
      },
      "source": [
        "import tensorflow as tf\n",
        "from tensorflow import keras\n",
        "batch_size = 32  # Batch size for training.\n",
        "epochs = 22  # Number of epochs to train for.\n",
        "latent_dim_encoder = 160\n",
        "latent_dim_decoder = 160"
      ],
      "execution_count": 115,
      "outputs": []
    },
    {
      "cell_type": "code",
      "metadata": {
        "id": "4icG2apa_VmW"
      },
      "source": [
        "num_encoder_tokens = encoder_vocab.num_words\n",
        "num_decoder_tokens = encoder_vocab.num_words\n",
        "\n",
        "# Define an input sequence and process it.\n",
        "encoder_inputs = keras.Input(shape=(None, num_encoder_tokens))\n",
        "encoder = keras.layers.LSTM(latent_dim_encoder, return_state=True)\n",
        "encoder_outputs, state_h, state_c = encoder(encoder_inputs)\n",
        "\n",
        "# We discard `encoder_outputs` and only keep the states.\n",
        "encoder_states = [state_h, state_c]\n",
        "\n",
        "# Set up the decoder, using `encoder_states` as initial state.\n",
        "decoder_inputs = keras.Input(shape=(None, num_decoder_tokens))\n",
        "\n",
        "# We set up our decoder to return full output sequences,\n",
        "# and to return internal states as well. We don't use the\n",
        "# return states in the training model, but we will use them in inference.\n",
        "decoder_lstm = keras.layers.LSTM(latent_dim_decoder, return_sequences=True, return_state=True)\n",
        "decoder_outputs, _, _ = decoder_lstm(decoder_inputs, initial_state=encoder_states)\n",
        "decoder_dense = keras.layers.Dense(num_decoder_tokens, activation=\"softmax\")\n",
        "decoder_outputs = decoder_dense(decoder_outputs)\n",
        "\n",
        "# Define the model that will turn\n",
        "# `encoder_input_data` & `decoder_input_data` into `decoder_target_data`\n",
        "model = keras.Model([encoder_inputs, decoder_inputs], decoder_outputs)"
      ],
      "execution_count": 116,
      "outputs": []
    },
    {
      "cell_type": "code",
      "metadata": {
        "colab": {
          "base_uri": "https://localhost:8080/"
        },
        "id": "knWB2ygx_bkZ",
        "outputId": "d5b6cb7c-4e5d-4cd5-8bb1-f43a20b3d8c8"
      },
      "source": [
        "#Train model \n",
        "\n",
        "model.compile(\n",
        "    optimizer=\"rmsprop\", loss=\"categorical_crossentropy\", metrics=[\"accuracy\"]\n",
        ")\n",
        "\n",
        "model.fit(\n",
        "    [encoder_input_data, decoder_input_data],\n",
        "    decoder_target_data,\n",
        "    batch_size=batch_size,\n",
        "    epochs=epochs,\n",
        "    validation_split=0.2,\n",
        ")\n",
        "# Save model\n",
        "model.save(\"third.h5\")"
      ],
      "execution_count": 119,
      "outputs": [
        {
          "output_type": "stream",
          "text": [
            "Epoch 1/22\n",
            "367/367 [==============================] - 32s 78ms/step - loss: 2.0591 - accuracy: 0.5332 - val_loss: 1.2655 - val_accuracy: 0.6272\n",
            "Epoch 2/22\n",
            "367/367 [==============================] - 24s 64ms/step - loss: 1.0847 - accuracy: 0.6632 - val_loss: 0.8915 - val_accuracy: 0.6895\n",
            "Epoch 3/22\n",
            "367/367 [==============================] - 23s 63ms/step - loss: 0.7612 - accuracy: 0.7344 - val_loss: 0.6579 - val_accuracy: 0.7709\n",
            "Epoch 4/22\n",
            "367/367 [==============================] - 23s 62ms/step - loss: 0.6312 - accuracy: 0.7704 - val_loss: 0.6193 - val_accuracy: 0.7801\n",
            "Epoch 5/22\n",
            "367/367 [==============================] - 23s 62ms/step - loss: 0.5580 - accuracy: 0.7904 - val_loss: 0.5563 - val_accuracy: 0.7926\n",
            "Epoch 6/22\n",
            "367/367 [==============================] - 23s 62ms/step - loss: 0.5202 - accuracy: 0.8042 - val_loss: 0.4854 - val_accuracy: 0.8152\n",
            "Epoch 7/22\n",
            "367/367 [==============================] - 23s 62ms/step - loss: 0.4710 - accuracy: 0.8230 - val_loss: 0.4826 - val_accuracy: 0.8144\n",
            "Epoch 8/22\n",
            "367/367 [==============================] - 24s 64ms/step - loss: 0.4277 - accuracy: 0.8349 - val_loss: 0.4911 - val_accuracy: 0.8568\n",
            "Epoch 9/22\n",
            "367/367 [==============================] - 23s 63ms/step - loss: 0.4053 - accuracy: 0.8445 - val_loss: 0.4586 - val_accuracy: 0.8245\n",
            "Epoch 10/22\n",
            "367/367 [==============================] - 23s 62ms/step - loss: 0.3896 - accuracy: 0.8536 - val_loss: 0.4111 - val_accuracy: 0.8723\n",
            "Epoch 11/22\n",
            "367/367 [==============================] - 23s 62ms/step - loss: 0.3616 - accuracy: 0.8616 - val_loss: 0.4219 - val_accuracy: 0.8344\n",
            "Epoch 12/22\n",
            "367/367 [==============================] - 23s 61ms/step - loss: 0.3448 - accuracy: 0.8576 - val_loss: 0.3720 - val_accuracy: 0.8488\n",
            "Epoch 13/22\n",
            "367/367 [==============================] - 23s 63ms/step - loss: 0.3337 - accuracy: 0.8708 - val_loss: 0.3907 - val_accuracy: 0.8880\n",
            "Epoch 14/22\n",
            "367/367 [==============================] - 23s 62ms/step - loss: 0.3072 - accuracy: 0.8811 - val_loss: 0.4084 - val_accuracy: 0.8842\n",
            "Epoch 15/22\n",
            "367/367 [==============================] - 23s 62ms/step - loss: 0.2994 - accuracy: 0.8860 - val_loss: 0.4815 - val_accuracy: 0.8181\n",
            "Epoch 16/22\n",
            "367/367 [==============================] - 23s 63ms/step - loss: 0.2913 - accuracy: 0.8993 - val_loss: 0.3219 - val_accuracy: 0.9097\n",
            "Epoch 17/22\n",
            "367/367 [==============================] - 23s 62ms/step - loss: 0.2739 - accuracy: 0.9140 - val_loss: 0.3721 - val_accuracy: 0.8963\n",
            "Epoch 18/22\n",
            "367/367 [==============================] - 23s 62ms/step - loss: 0.2673 - accuracy: 0.9178 - val_loss: 0.3356 - val_accuracy: 0.9048\n",
            "Epoch 19/22\n",
            "367/367 [==============================] - 22s 61ms/step - loss: 0.2540 - accuracy: 0.9215 - val_loss: 0.3423 - val_accuracy: 0.9046\n",
            "Epoch 20/22\n",
            "367/367 [==============================] - 23s 62ms/step - loss: 0.2483 - accuracy: 0.9166 - val_loss: 0.3481 - val_accuracy: 0.9049\n",
            "Epoch 21/22\n",
            "367/367 [==============================] - 23s 62ms/step - loss: 0.2430 - accuracy: 0.9132 - val_loss: 0.3547 - val_accuracy: 0.8545\n",
            "Epoch 22/22\n",
            "367/367 [==============================] - 23s 62ms/step - loss: 0.2297 - accuracy: 0.9091 - val_loss: 0.3251 - val_accuracy: 0.9103\n"
          ],
          "name": "stdout"
        }
      ]
    },
    {
      "cell_type": "code",
      "metadata": {
        "id": "3tuj2QA8YGqn"
      },
      "source": [
        "# Restore the model and construct the encoder and decoder.\n",
        "model_temp = model \n",
        "model = keras.models.load_model(\"third.h5\")\n",
        "\n",
        "encoder_inputs = model.input[0]  # input_1\n",
        "encoder_outputs, state_h_enc, state_c_enc = model.layers[2].output  # lstm_1\n",
        "encoder_states = [state_h_enc, state_c_enc]\n",
        "encoder_model = keras.Model(encoder_inputs, encoder_states)\n",
        "\n",
        "decoder_inputs = model.input[1]  # input_2\n",
        "decoder_state_input_h = keras.Input(shape=(latent_dim_encoder,)) #input 3\n",
        "decoder_state_input_c = keras.Input(shape=(latent_dim_encoder,)) # input 4\n",
        "decoder_states_inputs = [decoder_state_input_h, decoder_state_input_c]\n",
        "decoder_lstm = model.layers[3]\n",
        "decoder_outputs, state_h_dec, state_c_dec = decoder_lstm(\n",
        "    decoder_inputs, initial_state=decoder_states_inputs\n",
        ")\n",
        "decoder_states = [state_h_dec, state_c_dec]\n",
        "decoder_dense = model.layers[4]\n",
        "decoder_outputs = decoder_dense(decoder_outputs)\n",
        "decoder_model = keras.Model(\n",
        "    [decoder_inputs] + decoder_states_inputs, [decoder_outputs] + decoder_states\n",
        ")\n",
        "\n",
        "# Reverse-lookup token index to decode sequences back to\n",
        "# something readable.\n",
        "# reverse_input_char_index = dict((i, char) for char, i in input_token_index.items())\n",
        "# reverse_target_char_index = dict((i, char) for char, i in target_token_index.items())\n",
        "\n",
        "\n",
        "def decode_sequence(input_seq):\n",
        "    # Encode the input as state vectors.\n",
        "    states_value = encoder_model.predict(input_seq)\n",
        "\n",
        "    # Generate empty target sequence of length 1.\n",
        "    target_seq = np.zeros((1, 1, encoder_vocab.num_words))\n",
        "    # Populate the first character of target sequence with the start character.\n",
        "    target_seq[0, 0, encoder_vocab.word2index['SOS']] = 1.0\n",
        "\n",
        "    # Sampling loop for a batch of sequences\n",
        "    # (to simplify, here we assume a batch of size 1).\n",
        "    stop_condition = False\n",
        "    decoded_sentence = [\"SOS\"]\n",
        "    while not stop_condition:\n",
        "        output_tokens, h, c = decoder_model.predict([target_seq] + states_value)\n",
        "\n",
        "        # Sample a token\n",
        "        sampled_token_index = np.argmax(output_tokens[0, -1, :])\n",
        "        sampled_char = encoder_vocab.index2word[sampled_token_index]\n",
        "        decoded_sentence.append(sampled_char)\n",
        "\n",
        "        # Exit condition: either hit max length\n",
        "        # or find stop character.\n",
        "        if sampled_char == \"EOS\" or len(decoded_sentence) > decoder_vocab.longest_sentence:\n",
        "            stop_condition = True\n",
        "\n",
        "        # Update the target sequence (of length 1).\n",
        "        target_seq = np.zeros((1, 1,  encoder_vocab.num_words))\n",
        "        target_seq[0, 0, sampled_token_index] = 1.0\n",
        "\n",
        "        # Update states\n",
        "        states_value = [h, c]\n",
        "    return decoded_sentence\n"
      ],
      "execution_count": 147,
      "outputs": []
    },
    {
      "cell_type": "code",
      "metadata": {
        "id": "izecdG3ZB2xQ"
      },
      "source": [
        "def de_normalise(toks,index,data):\n",
        "  #Removing SOS ,EOS , OOV \n",
        "  c=s=com=n=0\n",
        "  toks = [i for i in toks if i not in ('SOS','EOS','PAD')]\n",
        "  \n",
        "  for i,x in enumerate(toks):\n",
        "    if (x[0]=='v' and x[1:].isdigit()):\n",
        "        id= int(x[1:])\n",
        "        if len(data['src_id_var'][index]) > 0:\n",
        "          toks[i] = data['src_id_var'][index][id%(len(data['src_id_var'][index]))]\n",
        "        continue\n",
        "    if x == 'lc_s' and s < len(data['src_lc_s'][index]) :\n",
        "      toks[i]=data['src_lc_s'][index][s]\n",
        "      s+=1\n",
        "      continue\n",
        "    if x == 'lc_c' and c < len(data['src_lc_c'][index]):\n",
        "      toks[i]=data['src_lc_c'][index][c]\n",
        "      c+=1\n",
        "      continue\n",
        "    if x == 'lc_n' and n < len(data['src_lc_n'][index]):\n",
        "      toks[i]=data['src_lc_n'][index][n]\n",
        "      n+=1\n",
        "      continue\n",
        "    if x == 'lc_com' and com < len(data['src_lc_com'][index]):\n",
        "      toks[i]=data['src_lc_com'][index][com]\n",
        "      com+=1\n",
        "      continue\n",
        "    \n",
        "  return toks\n",
        "      \n",
        "\n",
        "\n"
      ],
      "execution_count": 141,
      "outputs": []
    },
    {
      "cell_type": "code",
      "metadata": {
        "id": "mmiuRdEgEbpJ",
        "colab": {
          "base_uri": "https://localhost:8080/"
        },
        "outputId": "5031dfec-79ba-4570-f0fa-ca696fac6e06"
      },
      "source": [
        "import matplotlib.pyplot as plt\n",
        "dist={}\n",
        "\n",
        "train_orig = pd.read_csv('/content/drive/MyDrive/ASEML_dataset/train.csv')\n",
        "test_orig = pd.read_csv('/content/drive/MyDrive/ASEML_dataset/valid.csv')\n",
        "tokenizer = tokenization.C_Tokenizer()\n",
        "for index in train_orig.index:\n",
        "  tar_line = ast.literal_eval(train_orig['targetLineTokens'][index])\n",
        "  line = ' '.join(tar_line)\n",
        "  toks,types = tokenizer.tokenize(line)\n",
        "  train_orig['targetLineTokens'][index] = toks\n",
        "for index in test_orig.index: \n",
        "  tar_line = ast.literal_eval(test_orig['targetLineTokens'][index])\n",
        "  line = ' '.join(tar_line)\n",
        "  toks,types = tokenizer.tokenize(line)\n",
        "  test_orig['targetLineTokens'][index] = toks\n",
        "  "
      ],
      "execution_count": 136,
      "outputs": [
        {
          "output_type": "stream",
          "text": [
            "/usr/local/lib/python3.7/dist-packages/ipykernel_launcher.py:11: SettingWithCopyWarning: \n",
            "A value is trying to be set on a copy of a slice from a DataFrame\n",
            "\n",
            "See the caveats in the documentation: https://pandas.pydata.org/pandas-docs/stable/user_guide/indexing.html#returning-a-view-versus-a-copy\n",
            "  # This is added back by InteractiveShellApp.init_path()\n",
            "/usr/local/lib/python3.7/dist-packages/ipykernel_launcher.py:16: SettingWithCopyWarning: \n",
            "A value is trying to be set on a copy of a slice from a DataFrame\n",
            "\n",
            "See the caveats in the documentation: https://pandas.pydata.org/pandas-docs/stable/user_guide/indexing.html#returning-a-view-versus-a-copy\n",
            "  app.launch_new_instance()\n"
          ],
          "name": "stderr"
        }
      ]
    },
    {
      "cell_type": "code",
      "metadata": {
        "colab": {
          "base_uri": "https://localhost:8080/"
        },
        "id": "9A25AR8Dnkxx",
        "outputId": "7df9be94-681d-4a6e-b6ed-e48b7c457941"
      },
      "source": [
        "model.summary()"
      ],
      "execution_count": 148,
      "outputs": [
        {
          "output_type": "stream",
          "text": [
            "Model: \"model_16\"\n",
            "__________________________________________________________________________________________________\n",
            "Layer (type)                    Output Shape         Param #     Connected to                     \n",
            "==================================================================================================\n",
            "input_27 (InputLayer)           [(None, None, 422)]  0                                            \n",
            "__________________________________________________________________________________________________\n",
            "input_28 (InputLayer)           [(None, None, 422)]  0                                            \n",
            "__________________________________________________________________________________________________\n",
            "lstm_20 (LSTM)                  [(None, 160), (None, 373120      input_27[0][0]                   \n",
            "__________________________________________________________________________________________________\n",
            "lstm_21 (LSTM)                  [(None, None, 160),  373120      input_28[0][0]                   \n",
            "                                                                 lstm_20[0][1]                    \n",
            "                                                                 lstm_20[0][2]                    \n",
            "__________________________________________________________________________________________________\n",
            "dense_10 (Dense)                (None, None, 422)    67942       lstm_21[0][0]                    \n",
            "==================================================================================================\n",
            "Total params: 814,182\n",
            "Trainable params: 814,182\n",
            "Non-trainable params: 0\n",
            "__________________________________________________________________________________________________\n"
          ],
          "name": "stdout"
        }
      ]
    },
    {
      "cell_type": "code",
      "metadata": {
        "id": "_a6GOktiLQ2E"
      },
      "source": [
        "# Encoder input for test data\n",
        "encoder_input_data = np.zeros(\n",
        "    (len(test),encoder_vocab.longest_sentence, encoder_vocab.num_words), dtype=\"float32\"\n",
        ")\n",
        "decoder_input_data = np.zeros(\n",
        "    (len(test), encoder_vocab.longest_sentence, encoder_vocab.num_words), dtype=\"float32\"\n",
        ")\n",
        "decoder_target_data = np.zeros(\n",
        "    (len(test), encoder_vocab.longest_sentence, encoder_vocab.num_words), dtype=\"float32\"\n",
        ")\n",
        "for i, (input_text, target_text) in enumerate(zip(test['sourceLineTokens'],test['targetLineTokens'])):\n",
        "    for t, char in enumerate(input_text):\n",
        "      if char in encoder_vocab.word2index:\n",
        "        encoder_input_data[i, t, encoder_vocab.word2index[char]] = 1.0\n",
        "      else:\n",
        "        encoder_input_data[i, t, encoder_vocab.word2index['OOV_Token']] = 1.0\n",
        "    \n",
        "    for t, char in enumerate(target_text):\n",
        "        # decoder_target_data is ahead of decoder_input_data by one timestep\n",
        "        if char in encoder_vocab.word2index:\n",
        "          decoder_input_data[i, t, encoder_vocab.word2index[char]] = 1.0\n",
        "        else:\n",
        "          decoder_input_data[i, t, encoder_vocab.word2index['OOV_Token']] = 1.0\n",
        "        if t > 0:\n",
        "            # decoder_target_data will be ahead by one timestep\n",
        "            # and will not include the start character.\n",
        "            if char in encoder_vocab.word2index:\n",
        "              decoder_target_data[i, t-1, encoder_vocab.word2index[char]] = 1.0\n",
        "            else:\n",
        "              decoder_target_data[i, t-1, encoder_vocab.word2index['OOV_Token']] = 1.0"
      ],
      "execution_count": 137,
      "outputs": []
    },
    {
      "cell_type": "code",
      "metadata": {
        "colab": {
          "base_uri": "https://localhost:8080/"
        },
        "id": "xfm9byYnfDJu",
        "outputId": "1201ff82-d4bb-4b39-d036-4a61028e80c5"
      },
      "source": [
        "# Predicting sequeneces \n",
        "correct = 0\n",
        "samples = 10\n",
        "test_orig['fixedTokens'] = \"\"\n",
        "for index in range(samples):\n",
        "    # Take one sequence (part of the training set)\n",
        "    # for trying out decoding.\n",
        "    input_seq = encoder_input_data[index : index + 1]\n",
        "    decoded_sentence = decode_sequence(input_seq)\n",
        "    decoded_sentence = de_normalise(decoded_sentence,index,test)\n",
        "    test_orig['fixedTokens'][index]=decoded_sentence\n",
        "    if decoded_sentence == test_orig['targetLineTokens'][index]:\n",
        "      correct+=1\n",
        "    if index % 100 == 0 and index != 0: \n",
        "      print('accuracy: after',index,': ',correct/index)\n",
        "\n",
        "print('Accuracy : ',correct/samples)\n",
        "    "
      ],
      "execution_count": 149,
      "outputs": [
        {
          "output_type": "stream",
          "text": [
            "/usr/local/lib/python3.7/dist-packages/ipykernel_launcher.py:11: SettingWithCopyWarning: \n",
            "A value is trying to be set on a copy of a slice from a DataFrame\n",
            "\n",
            "See the caveats in the documentation: https://pandas.pydata.org/pandas-docs/stable/user_guide/indexing.html#returning-a-view-versus-a-copy\n",
            "  # This is added back by InteractiveShellApp.init_path()\n"
          ],
          "name": "stderr"
        },
        {
          "output_type": "stream",
          "text": [
            "Accuracy :  0.2\n"
          ],
          "name": "stdout"
        }
      ]
    },
    {
      "cell_type": "code",
      "metadata": {
        "id": "W0UHDft4DE8g"
      },
      "source": [
        "# load and store dictionaires \n",
        "import pickle\n",
        "file_to_store = open(\"en_vocab.pickle\", \"wb\")\n",
        "pickle.dump(encoder_vocab, file_to_store)\n",
        "file_to_store.close()\n",
        "\n",
        "file_to_store = open(\"dec_vocab.pickle\", \"wb\")\n",
        "pickle.dump(decoder_vocab, file_to_store)\n",
        "file_to_store.close()"
      ],
      "execution_count": 156,
      "outputs": []
    },
    {
      "cell_type": "code",
      "metadata": {
        "colab": {
          "base_uri": "https://localhost:8080/"
        },
        "id": "GV-oGBhID--e",
        "outputId": "0fc8a87e-e8b2-46e6-c8ea-54ad7b7ee459"
      },
      "source": [
        "file_to_read = open(\"vocab.pickle\", \"rb\")\n"
      ],
      "execution_count": 155,
      "outputs": [
        {
          "output_type": "stream",
          "text": [
            "422\n"
          ],
          "name": "stdout"
        }
      ]
    },
    {
      "cell_type": "code",
      "metadata": {
        "colab": {
          "base_uri": "https://localhost:8080/"
        },
        "id": "crUsM8MbIxRi",
        "outputId": "15875830-8d41-4ba0-bf95-325fc7af27ce"
      },
      "source": [
        "a=pd.read_csv('valid_output.csv')\n",
        "print(ast.literal_eval(a['fixedTokens'][0]))\n",
        "print(a['targetLineTokens'][0])"
      ],
      "execution_count": 167,
      "outputs": [
        {
          "output_type": "stream",
          "text": [
            "['if', '(', '(', 'x', '(', 'facdtorial', ')', '&&', '(', 'x', '>=', 'n2', ')', ')', '&&', '(', 'facdtorial', '<', 'x']\n",
            "['if', '(', '(', 'factorial', '(', 'x', ')', '>=', 'n1', ')', '&&', '(', 'factorial', '(', 'x', ')', '<=', 'n2', ')', ')', '{']\n"
          ],
          "name": "stdout"
        }
      ]
    }
  ]
}